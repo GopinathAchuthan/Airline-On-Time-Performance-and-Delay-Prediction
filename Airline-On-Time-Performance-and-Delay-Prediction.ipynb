{
 "cells": [
  {
   "cell_type": "markdown",
   "id": "dad1c6a9-e6bd-43c3-959d-75406ad20808",
   "metadata": {},
   "source": [
    "# **Airline-On-Time-Performance-and-Delay-Prediction**"
   ]
  },
  {
   "cell_type": "markdown",
   "id": "b24df3d7-ce9a-49a4-b749-c15fcc91d49a",
   "metadata": {},
   "source": [
    "## Problem Statement\n",
    "---"
   ]
  },
  {
   "cell_type": "markdown",
   "id": "e81a040d-782a-42b5-80b1-ac3f477df601",
   "metadata": {},
   "source": [
    "### Project Objective:\n",
    "Develop a machine learning model to predict airline delays and analyze factors affecting on-time performance using historical data. By exploring patterns and correlations in flight records, this model will forecast both the likelihood and duration of delays. The ultimate goal is to provide airlines with actionable insights to optimize schedules, enhance operational efficiency, and improve customer satisfaction.\n",
    "\n",
    "### Keywords:\n",
    "Airline delays, Flight performance prediction, Machine learning, Delay analysis, Predictive Modeling, Classification, Regression, Data preprocessing, Feature engineering, Time series analysis\n",
    "\n",
    "### Research Questions to Address:\n",
    "1. What factors influence flight delays (e.g., weather, time of day, distance)?\n",
    "2. How can we predict if a flight will be delayed or on time?\n",
    "3. What is the expected delay duration for delayed flights?\n",
    "4. How accurate are machine learning models in predicting flight delays?\n",
    "5. What trends can we identify in historical delay data?\n",
    "6. How can flight schedules be optimized to minimize delays?\n",
    "\n",
    "### Dataset Information:\n",
    "- **Source**: U.S. Bureau of Transportation Statistics ([BTS](https://www.transtats.bts.gov)) Airline On-Time Performance Data. Click [here](https://www.transtats.bts.gov/OT_Delay/OT_DelayCause1.asp) to download the dataset\n",
    "- **Features**: The dataset includes flight details such as year, month, carrier, airport, and airport_name. It also contains arrival-related data and causes of delay. Additional columns include arr_cancelled, arr_diverted, arr_delay, and various delay times (carrier_delay, weather_delay, etc.).\n",
    "- **Size**: Hundreds of thousands of records spanning from `June 2003` to `December 2024`.\n",
    "\n",
    "### Evaluation Metrics:\n",
    "- **For Classification (Delay Prediction)**: \n",
    "  - Accuracy, Precision, Recall, F1-Score, AUC-ROC.\n",
    "- **For Regression (Delay Duration)**: \n",
    "  - MAE (Mean Absolute Error), RMSE (Root Mean Squared Error), R² (R-Squared).\n",
    "\n",
    "### Success Criteria:\n",
    "- High prediction accuracy (e.g., 85%+ for classification).\n",
    "- Interpretability of the model (clear insights on delay factors).\n",
    "- Real-world applicability (model generalizes well on new data).\n",
    "- Actionable insights for airlines (e.g., delay-prone routes, airports).\n"
   ]
  },
  {
   "cell_type": "markdown",
   "id": "c87aacdc-1c6b-4713-9d6f-8f49e426ad67",
   "metadata": {},
   "source": [
    "## Import Libraries"
   ]
  },
  {
   "cell_type": "code",
   "execution_count": null,
   "id": "0c88a122-8c34-420f-a785-21a8d4b6b048",
   "metadata": {},
   "outputs": [],
   "source": [
    "# Importing basic libraries for data manipulation\n",
    "import pandas as pd\n",
    "import numpy as np\n",
    "\n",
    "# Importing libraries for data visualization\n",
    "import matplotlib.pyplot as plt\n",
    "import seaborn as sns\n",
    "\n",
    "# Importing libraries for machine learning\n",
    "from sklearn.model_selection import train_test_split\n",
    "from sklearn.preprocessing import StandardScaler, LabelEncoder\n",
    "from sklearn.ensemble import RandomForestClassifier, RandomForestRegressor\n",
    "from sklearn.metrics import accuracy_score, confusion_matrix, classification_report, mean_absolute_error, mean_squared_error, r2_score\n",
    "\n",
    "# For handling warnings (if needed)\n",
    "import warnings\n",
    "warnings.filterwarnings('ignore')\n",
    "\n",
    "# Optional: Importing libraries for handling missing data (if needed)\n",
    "from sklearn.impute import SimpleImputer\n",
    "\n",
    "# For time-based features (if necessary)\n",
    "import datetime as dt\n"
   ]
  },
  {
   "cell_type": "markdown",
   "id": "69a5ede0-a429-4840-92bf-ea75fa45ba72",
   "metadata": {},
   "source": [
    "## About Dataset"
   ]
  },
  {
   "cell_type": "markdown",
   "id": "fc74f893-664e-4b68-9a8f-e5bdd2588856",
   "metadata": {},
   "source": [
    "The U.S. Department of Transportation's (DOT) Bureau of Transportation Statistics (BTS) tracks the on-time performance of domestic flights operated by large air carriers. Monthly summaries of flight performance—such as the number of on-time, delayed, canceled, and diverted flights—are provided in DOT's **Air Travel Consumer Report**, published approximately 30 days after each month ends. Additionally, BTS releases summary tables on their website. Since June 2003, BTS has also been collecting data on the causes of flight delays. Both summary statistics and raw data are made publicly available when the Air Travel Consumer Report is released.\n",
    "\n",
    "### Dataset Columns:\n",
    "\n",
    "- **year**: Year in YYYY format.\n",
    "- **month**: Month in MM format (1-12).\n",
    "- **carrier**: Code assigned by the U.S. DOT to uniquely identify an airline carrier.\n",
    "- **carrier_name**: The full name of the airline carrier, defined as one holding and reporting under the same DOT certificate, regardless of its code, name, or parent company.\n",
    "- **airport**: A three-character alphanumeric code issued by the U.S. DOT, designating the airport.\n",
    "- **airport_name**: The official name of an airport, where aircraft operate, typically with paved runways, maintenance facilities, and terminals.\n",
    "- **arr_flights**: Total number of arrival flights.\n",
    "- **arr_del15**: Arrival delay indicator (15 minutes or more). A flight is considered delayed if its actual arrival time exceeds the scheduled time by 15 minutes or more.\n",
    "- **carrier_ct**: Number of delays caused by the airline (carrier).\n",
    "- **weather_ct**: Number of delays caused by weather-related factors.\n",
    "- **nas_ct**: Number of delays caused by the National Air System (NAS).\n",
    "- **security_ct**: Number of delays caused by security-related issues.\n",
    "- **late_aircraft_ct**: Number of delays caused by late-arriving aircraft.\n",
    "- **arr_cancelled**: Indicates whether the flight was canceled.\n",
    "- **arr_diverted**: Indicates whether the flight was diverted.\n",
    "- **arr_delay**: The difference (in minutes) between the scheduled and actual arrival time. Negative values indicate early arrivals.\n",
    "- **carrier_delay**: The delay, in minutes, caused by the airline carrier.\n",
    "- **weather_delay**: The delay, in minutes, caused by weather conditions.\n",
    "- **nas_delay**: The delay, in minutes, caused by the National Air System.\n",
    "- **security_delay**: The delay, in minutes, caused by security-related issues.\n",
    "- **late_aircraft_delay**: The delay, in minutes, caused by late-arriving aircraft."
   ]
  },
  {
   "cell_type": "code",
   "execution_count": null,
   "id": "92e5c77f-f7db-4a19-ab2e-f6afa7a06bb8",
   "metadata": {},
   "outputs": [],
   "source": [
    "url = 'https://raw.githubusercontent.com/GopinathAchuthan/Airline-On-Time-Performance-and-Delay-Prediction/refs/heads/main/Dataset/Airline_Delay_Cause.csv'"
   ]
  },
  {
   "cell_type": "code",
   "execution_count": null,
   "id": "62756b12-bc4d-4877-93c2-21a01ca5415f",
   "metadata": {},
   "outputs": [],
   "source": []
  }
 ],
 "metadata": {
  "kernelspec": {
   "display_name": "Python 3 (ipykernel)",
   "language": "python",
   "name": "python3"
  },
  "language_info": {
   "codemirror_mode": {
    "name": "ipython",
    "version": 3
   },
   "file_extension": ".py",
   "mimetype": "text/x-python",
   "name": "python",
   "nbconvert_exporter": "python",
   "pygments_lexer": "ipython3",
   "version": "3.10.0"
  }
 },
 "nbformat": 4,
 "nbformat_minor": 5
}
